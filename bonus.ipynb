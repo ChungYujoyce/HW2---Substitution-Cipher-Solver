{
 "cells": [
  {
   "cell_type": "code",
   "execution_count": 11,
   "metadata": {},
   "outputs": [],
   "source": [
    "import itertools\n",
    "import random\n",
    "import base64\n",
    "\n",
    "with open('textfile/bonus2.txt') as f:\n",
    "    cipher = f.read()\n",
    "\n",
    "with open('three_no_spaces_freqs.txt') as ff:\n",
    "    triscores = {}\n",
    "    for item in ff:\n",
    "        (word, score) = item.split()\n",
    "        triscores[word] = float(score)\n",
    "# !!!!!\n",
    "# -----------------------difference--------------------------------------\n",
    "\n",
    "def create_first_key():\n",
    "    key = list(range(26))\n",
    "    random.shuffle(key)\n",
    "    return key\n",
    "\n",
    "def swap(string, i, j):\n",
    "    c = list(string)\n",
    "    c[i], c[j] = c[j], c[i]\n",
    "    return c\n",
    "\n",
    "def key_modify(guesskey):\n",
    "    key_score = tri_freq_score(guesskey)\n",
    "    Swap = list(itertools.combinations(range(26), 2)) \n",
    "    item = 0\n",
    "    while len(Swap) > 0:\n",
    "        new_key = swap(guesskey, Swap[item][0], Swap[item][1]) \n",
    "        new_score = tri_freq_score(new_key)\n",
    "        if new_score > key_score:\n",
    "            key_score = new_score\n",
    "            guesskey = new_key\n",
    "            item = 0\n",
    "        else:\n",
    "            Swap.pop(item)\n",
    "        item += 1\n",
    "        if item >= len(Swap):\n",
    "            item = 0\n",
    "            \n",
    "    for i in range(0,2):\n",
    "        Swap = list(itertools.combinations(range(26), 2))             \n",
    "        for item in range(0,len(Swap)):                 \n",
    "            new_key = swap(guesskey, Swap[item][0], Swap[item][1])  \n",
    "            new_score = tri_freq_score(new_key)                 \n",
    "            if new_score > key_score: \n",
    "                key_score = new_score\n",
    "                guesskey = new_key\n",
    "    \n",
    "    return guesskey, key_score\n",
    "       \n",
    "\n",
    "def create_article(article, key): # ord -> num\n",
    "    \n",
    "    original_article = \"\"\n",
    "    \n",
    "    for x in article:\n",
    "        if (ord(x) >= 65) & (ord(x) <= 90):\n",
    "            original_article += chr(65 + key[ord(x)-65])\n",
    "        elif (ord(x) >= 97) & (ord(x) <= 122):\n",
    "            original_article += chr(97 + key[ord(x)-97])\n",
    "        else:\n",
    "            original_article += x\n",
    "    \n",
    "    return original_article\n"
   ]
  },
  {
   "cell_type": "code",
   "execution_count": 14,
   "metadata": {},
   "outputs": [],
   "source": [
    "def isBase64(ciphertext):\n",
    "    try:\n",
    "        temp_text = ciphertext.encode() \n",
    "        return base64.b64encode(base64.b64decode(temp_text)) == ciphertext.encode() \n",
    "    except Exception:\n",
    "        return False  \n",
    "    \n",
    "# decrypt then change to base256\n",
    "def tri_freq_score(guesskey): # score the higher the better\n",
    "    \n",
    "    totalcost = 0\n",
    "    plaintext = create_article(cipher, guesskey)\n",
    "    \n",
    "    for i in range(int(len(plaintext)/4)):\n",
    "        if isBase64(plaintext[i*4:i*4+4]): \n",
    "            try: \n",
    "                curstr = plaintext[i*4:i*4+4].encode()\n",
    "                curstr = base64.b64decode(curstr) #decode base64 to base256 \n",
    "                curstr = curstr.decode()\n",
    "                totalcost += triscores[curstr]  \n",
    "            except:\n",
    "                totalcost -= 50.0 \n",
    "        else:\n",
    "            totalcost -= 50.0 \n",
    "    \n",
    "    return totalcost"
   ]
  },
  {
   "cell_type": "code",
   "execution_count": 15,
   "metadata": {
    "scrolled": true
   },
   "outputs": [
    {
     "name": "stdout",
     "output_type": "stream",
     "text": [
      "-30055.44955599998\n",
      "key= CJSRWYVUPOAXQDKFETMIZHGLNB\n",
      "b'{BOTQFGBWXBQKGJOXAMQ}tohishorseandbrokeintoagallopracingdownthekingsroadasiftooutrunhisdoubtsJonwasnotafraidofdeathbuthedidnotwanttodielikethattrussedandboundandbeheadedlikeacommonbrigandIfhemustperishletitbewithaswordinhishandfightinghisfatherskillersHewasnotrueStarkhadneverbeenonebuthecoulddielikeoneLetthemsaythatEddardStarkhadfatheredfoursonsnotthreeGhostkeptpacewiththemforalmosthalfamileredtonguelollingfromhismouthManandhorsealikeloweredtheirheadsasheaskedthemareformorespeedThewolfslowedstoppedwatchinghiseyesglowingredinthemoonlightHevanishedbehindbutJonknewhewouldfollowathisownpaceScatteredlightsflickeredthroughthetreesaheadofhimonbothsidesoftheroadMolesTownAdogbarkedasherodethroughandheheardamulesraucoushawfromthestablebutotherwisethevillagewasstillHereandtheretheglowofhearthfiresshonethroughshutteredwindowsleakingbetweenwoodenslatsbutonlyafewMolesTownwasbiggerthanitseemedbutthreequartersofitwasunderthegroundindeepwarmcellarsconnectedbyamazeoftunnelsEventhewhorehousewasdowntherenothingonthesurfacebutawoodenshacknobiggerthanaprivywitharedlanternhungoverthedoorOntheWallhedheardmencallthewhoresburiedtreasuresHewonderedwhetheranyofhisbrothersinblackweredownAGAMEOFFHRONEStheretonightminingThatwasoathbreakingtooyetnooneseemedtocarePageNotuntilhewaswellbeyondthevillagedidJonslowagainBythenbothheandthemareweredampwithsweatHedismountedshiveringhisburnedhandachingAbankofmeltingsnowlayunderthetreesbrightinthemoonlightwatertricklingofftoformsmallshallowpoolsJonsquattedandbroughthishandstogethercuppingtherunoffbetweenhisfingersThesnowmeltwasicycoldHedrankandsplashedsomeonhisfaceuntilhischeekstingledHisfingerswerethrobbingworsethantheyhadindaysandhisheadwaspoundingtooIamdoingtherightthinghetoldhimselfsowhydoIfeelsobadThehorsewaswelllatheredsoJontooktheleadandwalkedherforawhileTheroadwasscarcelywideenoughfortworiderstopassabreastitssurfacecutbytinystreamsandlitteredwithstoneThatrunhadbeentrulystupidaninvitationtoabrokenneckJonwonderedwhathadgottenintohimWasheinsuchagreatrushtodieOffinthetreesthedistantscreamofsomefrightenedanimalmadehimlookupHismarewhinniednervouslyHadhiswolffoundsomepreyHecuppedhishandsaroundhismouthGhostheshoutedGhosttomeTheonlyanswerwasarushofwingsbehindhimasanowltookflightFrowningJoncontinuedonhiswayHeledthemareforhalfanhouruntilshewasdryGhostdidnotappearJonwantedtomountupandrideagainbuthewasconcernedabouthismissingwolfGhosthecalledagainWhereareyouTomeGhostNothinginthesewoodscouldtroubleadirewolfevenahalfgrowndirewolfunlessnoGhostwastoosmarttoattackabearandiftherewasawolfpackanywherecloseJonwouldhavesurelyheardthemhowlingHeshouldeathedecidedFoodwouldsettlehisstomachandgiveGhostthechancetocatchupTherewasnodangeryetCastleBlackstillsleptInhissaddlebaghefoundabiscuitapieceofcheeseandasmallwitheredbrownappleHedbroughtsaltbeefaswellandarasherofbaconhedfilchedfromthekitchensbuthewouldsavethemeatforthemorrowAfteritwasgonehedneedtohuntandthatwouldslowhimJonsatunderthetreesandatehisbiscuitandcheesewhilehismaregrazedalongthekingsroadHekepttheappleforlastIthadgonealittlesoftbutthefleshwasstilltartandjuicyHewasdowntothecorewhenheheardthesoundshorsesandfromthenorthQuicklyJonleaptupandstrodetohismareCouldheoutrunthemNotheyweretooclosetheydhearhimforacertaintyandiftheywerefromCastleBlackHeledthemareofftheroadbehindathickstandofgreygreensentinelsOuietnowhesaidinaPagehushedvoicecrouchingdowntopeerthroughthebranchesIfthegodswerekindtheriderswouldpassbyLikelyasnottheywereonlysmallfolkfromMolesTownfarmersontheirwaytotheirfieldsalthoughwhattheyweredoingoutinthemiddleofthenightHelistenedtothesoundofhoovesgrowingsteadilylouderastheytrottedbrisklydownthekingsroadFromthesoundtherewerefiveorsixofthemattheleastTheirvoicesdriftedthroughthetreescertainhecamethiswayWecantbecertainHecouldhaveriddeneastforallyouknowOrlefttheroadtocutthroughthewoodsThatswhatIddoInthedarkStupidIfyoudidntfalloffyourhorseandbreakyourneckyoudgetlostandwindupbackattheWallwhenthesuncameupIwouldnotGrennsoundedpeevedIdjustridesouthyoucantellsouthbythestarsWhatiftheskywascloudyPypaskedThenIwouldntgoAnothervoicebrokeinYouknowwhereIdbeifitwasmeIdbeinMolesTowndiggingforburiedtreasureToadsshrilllaughterboomedthroughthetreesJonsmaresnortedKeepquietallofyouHaidersaidIthoughtIheardsomethingWhereIdidnthearanythingThehorsesstoppedPageYoucanthearyourselffartIcantooGrenninsistedQuietTheyallfellsilentlisteningJonfoundhimselfholdinghisbreathSamhethoughtHehadntgonetotheOldBearbuthehadntgonetobedeitherhedwokentheotherboysDamnthemallComedawniftheywerenotintheirbedstheydbenameddeserterstooWhatdidtheythinktheyweredoingThehushedsilenceseemedtostretchonandonFromwhereJoncrouchedhecouldseethelegsoftheirhorsesthroughthebranchesFinallyPypspokeupWhatdidyouhearIdontknowHaideradmittedAsoundIthoughtitmighthavebeenahorsebutTheresnothinghereOutofthecornerofhiseyeJonglimpsedapaleshapemovingthroughthetreesLeavesrustledandGhostcameboundingoutoftheshadowssosuddenlythatJonsmarestartedandgaveawhinnyThereHaldershoutedIheardittooPageTraitorJontoldthedirewolfasheswungupintothesaddleHeturnedthemaresheadtoslideoffthroughthetreesbuttheywereonhimbeforehehadgonetenfeetJonPypshoutedafterhimPullupGrennsaidYoucantoutrunusallJonwheeledaroundtofacethemdrawinghisswordGetbackIdontwishtohurtyoubutIwillifIhavetoOneagainstsevenHaldergaveasignalTheboysspreadoutsurroundinghimWhatdoyouwantwithmeJondemandedWewanttotakeyoubackwhereyoubelongPypsaidIbelongwithmybrotherWereyourbrothersnowGrennsaidTheyllcutoffyourheadiftheycatchyouyouknowToadputinwithanervouslaughThisissostupiditslikesomethingtheAurochswoulddoIwouldnotGrennsaidImnooathbreakerIsaidthewordsandImeantthemSodidUJontoldthemDontyouunderstandTheymurderedmyfatherItswarmybrotherRobbisfightingintheriverlandsPageWeknowsaidPypsolemnlySamtolduseverythingWeresorryaboutyourfatherGrennsaidbutitdoesntmatterOnceyousaythewordsyoucantleavenomatterwhatIhavetoJonsaidferventlyYousaidthewordsPypremindedhimNowmywatchbeginsyousaiditItshallnotenduntilmydeathIshallliveanddieatmypostGrennaddednoddingYoudonthavetotellmethewordsIknowthemaswellasyoudoHewasangrynowWhycouldnttheylethimgoinpeaceTheywereonlymakingitharderIamtheswordinthedarknessHalderintonedThewatcheronthewallspipedToadJoncursedthemalltotheirfacesTheytooknonoticePypspurredhishorsecloserrecitingIamthefirethatbumsagainstthecoldthelightthatbringsthedawnthehomthatwakesthesleeperstheshieldthatguardstherealmsofmenStaybackJonwarnedhimbrandishinghisswordImeanitPypTheywerentevenwearingarmorhecouldcutthemtopiecesifhehadtoPageMattharhadcircledbehindhimHejoinedthechorusIpledgemylifeandhonortotheNightsWatchJonkickedhismarespinningherinacircleTheboyswereallaroundhimnowclosingfromeverysideForthisnightHaldertrottedinfromtheleftandallthenightstocomefinishedPypHereachedoverforJonsreinsSohereareyourchoicesKillmeorcomebackwithmeJonliftedhisswordandloweredithelplessDamnyouhesaidDamnyouallDowehavetobindyourhandsorwillyougiveusyourwordyoullridebackpeacefulaskedHalderIwontrunifthatswhatyoumeanGhostmovedoutfromunderthetreesandJonglaredathimSmallhelpyouwerehesaidThedeepredeyeslookedathimknowinglyWehadbesthurryPypsaidIfwerenotbackbeforefirstlighttheOldBearwillhaveallourheadsOftheridebackJonSnowrememberedlittleItseemedshorterthanthejourneysouthperhapsbecausehismindwaselsewherePypsetthepacegallopingwalkingtrottingandthenbreakingintoanothergallopMolesTowncameandwenttheredlanternoverthebrothellongextinguishedTheymadegoodtimeDawnwasstillanhouroffwhenJonglimpsedthetowersofCastleBlackaheadofthemdarkagainstthepaleimmensityoftheWallItdidnotseemlikehomethistimeTheycouldtakehimbackJontoldhimselfbuttheycouldnotmakehimstayThewarwouldnotendonthemorroworthedayafterandhisfriendscouldnotwatchhimdayandnightHewouldbidehistimemakethemthinkhewascontenttoremainhereandthenwhentheyhadgrownlaxhewouldbeoffagainNexttimehewouldavoidthekingsroadHecouldfollowtheWalleastperhapsallthewaytotheseaalongerroutebutasaferoneOrevenwesttothemountainsandthensouthoverthehighpassesThatwasthewildlingswayhardandperilousbutatleastnoonewouidfollowhimHewouldntstraywithinahundredleaguesofWinterfellorthekingsroadPageSamwellTarlyawaitedthemintheoldstablesslumpedonthegroundagainstabaleofhaytooanxioustosleepHeroseandbrushedhimselfoffIImgladtheyfoundyouJonIPmnotJonsaiddismountingPyphoppedoffhishorseandlookedatthelighteningskywithdisgustGiveusahandbeddingdownthehorsesSamthesmallboysaidWehavealongdaybeforeusandnosleeptofaceitonthankstoLordSnowWhendaybrokeJonwalkedtothekitchensashedideverydawnThreeFingerHobbsaidnothingashegavehimtheOldBearsbreakfastTodayitwasthreebrowneggsboiledhardwithfriedbreadandhamsteakandabowlofwrinkledplumsJoncarriedthefoodbacktotheKingsTowerHefoundMormontatthewindowseatwritingHisravenwaswalkingbackandforthacrosshisshouldersmutteringCorncorncornThebirdshriekedwhenJonenteredPutthefoodonthetabletheOldBearsaidglancingupIllhavesomebeerJonopenedashutteredwindowtooktheflagonofbeerofftheoutsideledgeandfilledahornHobbhadgivenhimalemonstillcoldfromtheWallJoncrusheditinhisfistThejuicetrickledthroughhisfingersMormontdranklemoninhisbeereverydayandclaimedthatwaswhyhestillhadhisownteethDoubtlessyoulovedyourfatherMormontsaidwhenJonbroughthimhishornThethingswelovedestroyuseverytimeladRememberwhenItoldyouthatIrememberJonsaidsullenlyHedidnotcaretotalkofhisfathersdeathnoteventoMormontSeethatyouneverforgetitThehardtruthsaretheonestoholdtightFetchmemyplateIsithamagainSobeitYoulookwearyWasyourmoonlightridesotiringPageJonsthroatwasdryYouknowKnowtheravenechoedfromMormontsshoulderKnowTheOldBearsnortedDoyouthinktheychosemeLordCommanderoftheNightsWatchbecauseImdumbasastumpSnowAemontoldmeyoudgoItoldhimyoudbebackIknowmymenandmyboystooHonorsetyouonthekingsroadandhonorbroughtyoubackMyfriendsbroughtmebackJonsaidDidIsayitwasyourhonorMormontinspectedhisplateTheykilledmyfatherDidyouexpectmetodonothingIftruthbetoldweexpectedyoutodojustasyoudidMormonttriedaplumspitoutthepitIorderedawatchkeptoveryouYouwereseenleavingIfyourbrothershadnotfetchedyoubackyouwouldhavebeentakenalongthewayandnotbyfriendsUnlessyouhaveahorsewithwingslikearavenDoyouNoJonfeltlikeafoolPitywecoulduseahorselikethatJonstoodtallHetoldhimselfthathewoulddiewellthatmuchhePag'\n"
     ]
    }
   ],
   "source": [
    "def main():\n",
    "    \n",
    "    guesskey = create_first_key()\n",
    "    key, score = key_modify(guesskey)\n",
    "    print(score)\n",
    "    # {} ->set is not subscriptable use list() -> [] to let elements iterate in order\n",
    "\n",
    "    ch = [0]*26\n",
    "    for i in key:\n",
    "        ch[key[i]] = chr(i+97).upper()\n",
    "    print(\"key=\", \"\".join(ch))\n",
    "    \n",
    "    article = create_article(cipher, key)\n",
    "    print(base64.b64decode(article))\n",
    "    #print(article)\n",
    "\n",
    "if __name__ == \"__main__\":\n",
    "    main()\n"
   ]
  },
  {
   "cell_type": "code",
   "execution_count": null,
   "metadata": {},
   "outputs": [],
   "source": []
  },
  {
   "cell_type": "code",
   "execution_count": null,
   "metadata": {},
   "outputs": [],
   "source": []
  }
 ],
 "metadata": {
  "kernelspec": {
   "display_name": "Python 3",
   "language": "python",
   "name": "python3"
  },
  "language_info": {
   "codemirror_mode": {
    "name": "ipython",
    "version": 3
   },
   "file_extension": ".py",
   "mimetype": "text/x-python",
   "name": "python",
   "nbconvert_exporter": "python",
   "pygments_lexer": "ipython3",
   "version": "3.7.3"
  }
 },
 "nbformat": 4,
 "nbformat_minor": 2
}
